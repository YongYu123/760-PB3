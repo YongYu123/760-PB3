{
 "cells": [
  {
   "cell_type": "code",
   "execution_count": 141,
   "source": [
    "import os\r\n",
    "import torch\r\n",
    "from torch_geometric.data import Dataset, Data\r\n",
    "import glob\r\n",
    "import pandas as pd\r\n",
    "import numpy as np\r\n",
    "\r\n",
    "class CrypoDataset(Dataset):\r\n",
    "    def __init__(self, root,transform=None, pre_transform=None):\r\n",
    "        super(CrypoDataset, self).__init__(root, transform, pre_transform)\r\n",
    "\r\n",
    "    @property\r\n",
    "    def raw_file_names(self):\r\n",
    "        crypto_path = glob.glob(\"./\" + self.root + \"/raw/*.csv\")\r\n",
    "        crypto_filenames = []\r\n",
    "        for crypto_file in crypto_path:\r\n",
    "            name = os.path.basename(crypto_file)\r\n",
    "            crypto_filenames.append(name)\r\n",
    "        return crypto_filenames\r\n",
    "\r\n",
    "\r\n",
    "    @property\r\n",
    "    def processed_file_names(self):\r\n",
    "        data_rows = pd.read_csv(self.raw_paths[0]).shape[0]\r\n",
    "        return [f'data_{i}.pt' for i in range(data_rows)]\r\n",
    "        \r\n",
    "    def download(self): \r\n",
    "        pass\r\n",
    "\r\n",
    "    def process(self):\r\n",
    "        file_no = 0\r\n",
    "        data_rows = pd.read_csv(self.raw_paths[0]).shape[0]\r\n",
    "        for i in range(data_rows):\r\n",
    "            date_time = 0\r\n",
    "            all_node_feats=[]\r\n",
    "            for raw_path in self.raw_paths:\r\n",
    "            # Read data from `raw_path`.\r\n",
    "                data_file = pd.read_csv(raw_path)\r\n",
    "                if(date_time == 0):\r\n",
    "                    date_time=data_file.iloc[i][\"Date\"]\r\n",
    "                daily_data = data_file.loc[data_file['Date'] == date_time]\r\n",
    "                if(daily_data.shape[0]>0):\r\n",
    "                    node_feats = self._get_node_features(daily_data)\r\n",
    "                    all_node_feats.append(node_feats)\r\n",
    "            edge_index = self.generateEdge(len(all_node_feats))\r\n",
    "            all_node_feats = torch.tensor(all_node_feats, dtype=torch.float)\r\n",
    "            data = Data(x=all_node_feats,edge_index=edge_index,y=self._buy_or_not(data_file,date_time))\r\n",
    "            \r\n",
    "            if self.pre_filter is not None and not self.pre_filter(data):\r\n",
    "                continue\r\n",
    "\r\n",
    "            if self.pre_transform is not None:\r\n",
    "                data = self.pre_transform(data)\r\n",
    "\r\n",
    "            torch.save(data, os.path.join(self.processed_dir, 'data_{}.pt'.format(file_no)))\r\n",
    "            file_no += 1\r\n",
    "\r\n",
    "    def len(self):\r\n",
    "        return len(self.processed_file_names)\r\n",
    "\r\n",
    "    def get(self, idx):\r\n",
    "        data = torch.load(os.path.join(self.processed_dir, 'data_{}.pt'.format(idx)))\r\n",
    "        return data\r\n",
    "\r\n",
    "    def _get_node_features(self, daily_data):\r\n",
    "        all_node_feats = []\r\n",
    "        all_node_feats.append(daily_data[\"Open\"].item())\r\n",
    "        all_node_feats.append(daily_data[\"High\"].item())\r\n",
    "        all_node_feats.append(daily_data[\"Low\"].item())\r\n",
    "        all_node_feats.append(daily_data[\"Close\"].item())\r\n",
    "        all_node_feats.append(daily_data[\"Volume\"].item())\r\n",
    "        return all_node_feats\r\n",
    "    \r\n",
    "    def _get_return_ratio(self,daily_data):\r\n",
    "        return_ratio = []\r\n",
    "        data = np.array(daily_data[\"Close\"])\r\n",
    "        for i in range(len(data)):\r\n",
    "            if i == 0:\r\n",
    "                return_ratio.append(0)\r\n",
    "            else:\r\n",
    "                return_ratio.append((data[i]-data[i-1])/data[i-1])\r\n",
    "        return return_ratio\r\n",
    "    \r\n",
    "    def _buy_or_not(self,data_file,date_time):\r\n",
    "        butOrNot=0\r\n",
    "        data = np.array(data_file[\"Close\"])\r\n",
    "        data_row = data_file.loc[data_file['Date'] == date_time]\r\n",
    "        if data_row.shape[0]>0:\r\n",
    "            index = data_file.loc[data_file['Date'] == date_time].index[0]\r\n",
    "            if(index < data_file.shape[0]-1 and data[index+1]>data[index]):\r\n",
    "                butOrNot=1\r\n",
    "        return torch.tensor(butOrNot, dtype=torch.float)\r\n",
    "    def generateEdge(self,n):\r\n",
    "        edges = []\r\n",
    "        for i in range(n):\r\n",
    "            for j in range(n):\r\n",
    "                edges.append([i,j])\r\n",
    "        return torch.tensor(edges, dtype=torch.long)\r\n"
   ],
   "outputs": [],
   "metadata": {}
  },
  {
   "cell_type": "code",
   "execution_count": 142,
   "source": [
    "CrypoDataset(\"./Dataset/Crypto/\")"
   ],
   "outputs": [
    {
     "output_type": "stream",
     "name": "stdout",
     "text": [
      "Processing...\n",
      "Done!\n"
     ]
    },
    {
     "output_type": "execute_result",
     "data": {
      "text/plain": [
       "CrypoDataset(730)"
      ]
     },
     "metadata": {},
     "execution_count": 142
    }
   ],
   "metadata": {}
  },
  {
   "cell_type": "code",
   "execution_count": 152,
   "source": [
    "import os.path as osp\r\n",
    "\r\n",
    "import torch\r\n",
    "import torch.nn.functional as F\r\n",
    "from torch_geometric.datasets import Planetoid\r\n",
    "import torch_geometric.transforms as T\r\n",
    "from torch_geometric.nn import GATConv\r\n",
    "from dataset import CrypoDataset\r\n",
    "from torch_geometric.data import DataLoader\r\n",
    "dataset = CrypoDataset(root=\"Dataset/Crypto/\")\r\n",
    "\r\n",
    "data = dataset[0]\r\n",
    "\r\n",
    "# dataset = dataset.shuffle()\r\n",
    "# train_dataset = dataset[:4]\r\n",
    "# val_dataset = dataset[2:3]\r\n",
    "# test_dataset = dataset[4:5]\r\n",
    "\r\n",
    "# batch_size= 512\r\n",
    "# train_loader = DataLoader(train_dataset, batch_size=batch_size)\r\n",
    "# val_loader = DataLoader(val_dataset, batch_size=batch_size)\r\n",
    "# test_loader = DataLoader(test_dataset, batch_size=batch_size)\r\n",
    "\r\n",
    "class Net(torch.nn.Module):\r\n",
    "    def __init__(self, in_channels, out_channels):\r\n",
    "        super(Net, self).__init__()\r\n",
    "\r\n",
    "        self.conv1 = GATConv(in_channels, 8, heads=8, dropout=0.6)\r\n",
    "        # On the Pubmed dataset, use heads=8 in conv2.\r\n",
    "        self.conv2 = GATConv(8 * 8, out_channels, heads=1, concat=False,\r\n",
    "                             dropout=0.6)\r\n",
    "\r\n",
    "    def forward(self, x, edge_index):\r\n",
    "        x = F.dropout(x, p=0.6, training=self.training)\r\n",
    "        x = F.elu(self.conv1(x, edge_index))\r\n",
    "        x = F.dropout(x, p=0.6, training=self.training)\r\n",
    "        x = self.conv2(x, edge_index)\r\n",
    "        return F.log_softmax(x, dim=-1)\r\n",
    "\r\n",
    "device = torch.device('cpu')\r\n",
    "\r\n",
    "\r\n",
    "model = Net(dataset.num_features,2).to(device)\r\n",
    "data = data.to(device)\r\n",
    "optimizer = torch.optim.Adam(model.parameters(), lr=0.005, weight_decay=5e-4)\r\n",
    "\r\n",
    "\r\n",
    "def train(data):\r\n",
    "    model.train()\r\n",
    "    optimizer.zero_grad()\r\n",
    "    out = model(data.x, data.edge_index)\r\n",
    "    loss = F.nll_loss(out[data.train_mask], data.y[data.train_mask])\r\n",
    "    loss.backward()\r\n",
    "    optimizer.step()\r\n",
    "\r\n",
    "\r\n",
    "@torch.no_grad()\r\n",
    "def test(data):\r\n",
    "    model.eval()\r\n",
    "    out, accs = model(data.x, data.edge_index), []\r\n",
    "    for _, mask in data('train_mask', 'val_mask', 'test_mask'):\r\n",
    "        acc = float((out[mask].argmax(-1) == data.y[mask]).sum() / mask.sum())\r\n",
    "        accs.append(acc)\r\n",
    "    return accs\r\n",
    "\r\n",
    "\r\n",
    "for epoch in range(1, 201):\r\n",
    "    train(data)\r\n",
    "    train_acc, val_acc, test_acc = test(data)\r\n",
    "    print(f'Epoch: {epoch:03d}, Train: {train_acc:.4f}, Val: {val_acc:.4f}, '\r\n",
    "          f'Test: {test_acc:.4f}')"
   ],
   "outputs": [
    {
     "output_type": "error",
     "ename": "RuntimeError",
     "evalue": "torch.cat(): Sizes of tensors must match except in dimension 1. Got 25 and 2 in dimension 0 (The offending index is 1)",
     "traceback": [
      "\u001b[1;31m---------------------------------------------------------------------------\u001b[0m",
      "\u001b[1;31mRuntimeError\u001b[0m                              Traceback (most recent call last)",
      "\u001b[1;32m<ipython-input-152-56068a886c6c>\u001b[0m in \u001b[0;36m<module>\u001b[1;34m\u001b[0m\n\u001b[0;32m     66\u001b[0m \u001b[1;33m\u001b[0m\u001b[0m\n\u001b[0;32m     67\u001b[0m \u001b[1;32mfor\u001b[0m \u001b[0mepoch\u001b[0m \u001b[1;32min\u001b[0m \u001b[0mrange\u001b[0m\u001b[1;33m(\u001b[0m\u001b[1;36m1\u001b[0m\u001b[1;33m,\u001b[0m \u001b[1;36m201\u001b[0m\u001b[1;33m)\u001b[0m\u001b[1;33m:\u001b[0m\u001b[1;33m\u001b[0m\u001b[1;33m\u001b[0m\u001b[0m\n\u001b[1;32m---> 68\u001b[1;33m     \u001b[0mtrain\u001b[0m\u001b[1;33m(\u001b[0m\u001b[0mdata\u001b[0m\u001b[1;33m)\u001b[0m\u001b[1;33m\u001b[0m\u001b[1;33m\u001b[0m\u001b[0m\n\u001b[0m\u001b[0;32m     69\u001b[0m     \u001b[0mtrain_acc\u001b[0m\u001b[1;33m,\u001b[0m \u001b[0mval_acc\u001b[0m\u001b[1;33m,\u001b[0m \u001b[0mtest_acc\u001b[0m \u001b[1;33m=\u001b[0m \u001b[0mtest\u001b[0m\u001b[1;33m(\u001b[0m\u001b[0mdata\u001b[0m\u001b[1;33m)\u001b[0m\u001b[1;33m\u001b[0m\u001b[1;33m\u001b[0m\u001b[0m\n\u001b[0;32m     70\u001b[0m     print(f'Epoch: {epoch:03d}, Train: {train_acc:.4f}, Val: {val_acc:.4f}, '\n",
      "\u001b[1;32m<ipython-input-152-56068a886c6c>\u001b[0m in \u001b[0;36mtrain\u001b[1;34m(data)\u001b[0m\n\u001b[0;32m     49\u001b[0m     \u001b[0mmodel\u001b[0m\u001b[1;33m.\u001b[0m\u001b[0mtrain\u001b[0m\u001b[1;33m(\u001b[0m\u001b[1;33m)\u001b[0m\u001b[1;33m\u001b[0m\u001b[1;33m\u001b[0m\u001b[0m\n\u001b[0;32m     50\u001b[0m     \u001b[0moptimizer\u001b[0m\u001b[1;33m.\u001b[0m\u001b[0mzero_grad\u001b[0m\u001b[1;33m(\u001b[0m\u001b[1;33m)\u001b[0m\u001b[1;33m\u001b[0m\u001b[1;33m\u001b[0m\u001b[0m\n\u001b[1;32m---> 51\u001b[1;33m     \u001b[0mout\u001b[0m \u001b[1;33m=\u001b[0m \u001b[0mmodel\u001b[0m\u001b[1;33m(\u001b[0m\u001b[0mdata\u001b[0m\u001b[1;33m.\u001b[0m\u001b[0mx\u001b[0m\u001b[1;33m,\u001b[0m \u001b[0mdata\u001b[0m\u001b[1;33m.\u001b[0m\u001b[0medge_index\u001b[0m\u001b[1;33m)\u001b[0m\u001b[1;33m\u001b[0m\u001b[1;33m\u001b[0m\u001b[0m\n\u001b[0m\u001b[0;32m     52\u001b[0m     \u001b[0mloss\u001b[0m \u001b[1;33m=\u001b[0m \u001b[0mF\u001b[0m\u001b[1;33m.\u001b[0m\u001b[0mnll_loss\u001b[0m\u001b[1;33m(\u001b[0m\u001b[0mout\u001b[0m\u001b[1;33m[\u001b[0m\u001b[0mdata\u001b[0m\u001b[1;33m.\u001b[0m\u001b[0mtrain_mask\u001b[0m\u001b[1;33m]\u001b[0m\u001b[1;33m,\u001b[0m \u001b[0mdata\u001b[0m\u001b[1;33m.\u001b[0m\u001b[0my\u001b[0m\u001b[1;33m[\u001b[0m\u001b[0mdata\u001b[0m\u001b[1;33m.\u001b[0m\u001b[0mtrain_mask\u001b[0m\u001b[1;33m]\u001b[0m\u001b[1;33m)\u001b[0m\u001b[1;33m\u001b[0m\u001b[1;33m\u001b[0m\u001b[0m\n\u001b[0;32m     53\u001b[0m     \u001b[0mloss\u001b[0m\u001b[1;33m.\u001b[0m\u001b[0mbackward\u001b[0m\u001b[1;33m(\u001b[0m\u001b[1;33m)\u001b[0m\u001b[1;33m\u001b[0m\u001b[1;33m\u001b[0m\u001b[0m\n",
      "\u001b[1;32m~\\anaconda3\\lib\\site-packages\\torch\\nn\\modules\\module.py\u001b[0m in \u001b[0;36m_call_impl\u001b[1;34m(self, *input, **kwargs)\u001b[0m\n\u001b[0;32m   1049\u001b[0m         if not (self._backward_hooks or self._forward_hooks or self._forward_pre_hooks or _global_backward_hooks\n\u001b[0;32m   1050\u001b[0m                 or _global_forward_hooks or _global_forward_pre_hooks):\n\u001b[1;32m-> 1051\u001b[1;33m             \u001b[1;32mreturn\u001b[0m \u001b[0mforward_call\u001b[0m\u001b[1;33m(\u001b[0m\u001b[1;33m*\u001b[0m\u001b[0minput\u001b[0m\u001b[1;33m,\u001b[0m \u001b[1;33m**\u001b[0m\u001b[0mkwargs\u001b[0m\u001b[1;33m)\u001b[0m\u001b[1;33m\u001b[0m\u001b[1;33m\u001b[0m\u001b[0m\n\u001b[0m\u001b[0;32m   1052\u001b[0m         \u001b[1;31m# Do not call functions when jit is used\u001b[0m\u001b[1;33m\u001b[0m\u001b[1;33m\u001b[0m\u001b[1;33m\u001b[0m\u001b[0m\n\u001b[0;32m   1053\u001b[0m         \u001b[0mfull_backward_hooks\u001b[0m\u001b[1;33m,\u001b[0m \u001b[0mnon_full_backward_hooks\u001b[0m \u001b[1;33m=\u001b[0m \u001b[1;33m[\u001b[0m\u001b[1;33m]\u001b[0m\u001b[1;33m,\u001b[0m \u001b[1;33m[\u001b[0m\u001b[1;33m]\u001b[0m\u001b[1;33m\u001b[0m\u001b[1;33m\u001b[0m\u001b[0m\n",
      "\u001b[1;32m<ipython-input-152-56068a886c6c>\u001b[0m in \u001b[0;36mforward\u001b[1;34m(self, x, edge_index)\u001b[0m\n\u001b[0;32m     33\u001b[0m     \u001b[1;32mdef\u001b[0m \u001b[0mforward\u001b[0m\u001b[1;33m(\u001b[0m\u001b[0mself\u001b[0m\u001b[1;33m,\u001b[0m \u001b[0mx\u001b[0m\u001b[1;33m,\u001b[0m \u001b[0medge_index\u001b[0m\u001b[1;33m)\u001b[0m\u001b[1;33m:\u001b[0m\u001b[1;33m\u001b[0m\u001b[1;33m\u001b[0m\u001b[0m\n\u001b[0;32m     34\u001b[0m         \u001b[0mx\u001b[0m \u001b[1;33m=\u001b[0m \u001b[0mF\u001b[0m\u001b[1;33m.\u001b[0m\u001b[0mdropout\u001b[0m\u001b[1;33m(\u001b[0m\u001b[0mx\u001b[0m\u001b[1;33m,\u001b[0m \u001b[0mp\u001b[0m\u001b[1;33m=\u001b[0m\u001b[1;36m0.6\u001b[0m\u001b[1;33m,\u001b[0m \u001b[0mtraining\u001b[0m\u001b[1;33m=\u001b[0m\u001b[0mself\u001b[0m\u001b[1;33m.\u001b[0m\u001b[0mtraining\u001b[0m\u001b[1;33m)\u001b[0m\u001b[1;33m\u001b[0m\u001b[1;33m\u001b[0m\u001b[0m\n\u001b[1;32m---> 35\u001b[1;33m         \u001b[0mx\u001b[0m \u001b[1;33m=\u001b[0m \u001b[0mF\u001b[0m\u001b[1;33m.\u001b[0m\u001b[0melu\u001b[0m\u001b[1;33m(\u001b[0m\u001b[0mself\u001b[0m\u001b[1;33m.\u001b[0m\u001b[0mconv1\u001b[0m\u001b[1;33m(\u001b[0m\u001b[0mx\u001b[0m\u001b[1;33m,\u001b[0m \u001b[0medge_index\u001b[0m\u001b[1;33m)\u001b[0m\u001b[1;33m)\u001b[0m\u001b[1;33m\u001b[0m\u001b[1;33m\u001b[0m\u001b[0m\n\u001b[0m\u001b[0;32m     36\u001b[0m         \u001b[0mx\u001b[0m \u001b[1;33m=\u001b[0m \u001b[0mF\u001b[0m\u001b[1;33m.\u001b[0m\u001b[0mdropout\u001b[0m\u001b[1;33m(\u001b[0m\u001b[0mx\u001b[0m\u001b[1;33m,\u001b[0m \u001b[0mp\u001b[0m\u001b[1;33m=\u001b[0m\u001b[1;36m0.6\u001b[0m\u001b[1;33m,\u001b[0m \u001b[0mtraining\u001b[0m\u001b[1;33m=\u001b[0m\u001b[0mself\u001b[0m\u001b[1;33m.\u001b[0m\u001b[0mtraining\u001b[0m\u001b[1;33m)\u001b[0m\u001b[1;33m\u001b[0m\u001b[1;33m\u001b[0m\u001b[0m\n\u001b[0;32m     37\u001b[0m         \u001b[0mx\u001b[0m \u001b[1;33m=\u001b[0m \u001b[0mself\u001b[0m\u001b[1;33m.\u001b[0m\u001b[0mconv2\u001b[0m\u001b[1;33m(\u001b[0m\u001b[0mx\u001b[0m\u001b[1;33m,\u001b[0m \u001b[0medge_index\u001b[0m\u001b[1;33m)\u001b[0m\u001b[1;33m\u001b[0m\u001b[1;33m\u001b[0m\u001b[0m\n",
      "\u001b[1;32m~\\anaconda3\\lib\\site-packages\\torch\\nn\\modules\\module.py\u001b[0m in \u001b[0;36m_call_impl\u001b[1;34m(self, *input, **kwargs)\u001b[0m\n\u001b[0;32m   1049\u001b[0m         if not (self._backward_hooks or self._forward_hooks or self._forward_pre_hooks or _global_backward_hooks\n\u001b[0;32m   1050\u001b[0m                 or _global_forward_hooks or _global_forward_pre_hooks):\n\u001b[1;32m-> 1051\u001b[1;33m             \u001b[1;32mreturn\u001b[0m \u001b[0mforward_call\u001b[0m\u001b[1;33m(\u001b[0m\u001b[1;33m*\u001b[0m\u001b[0minput\u001b[0m\u001b[1;33m,\u001b[0m \u001b[1;33m**\u001b[0m\u001b[0mkwargs\u001b[0m\u001b[1;33m)\u001b[0m\u001b[1;33m\u001b[0m\u001b[1;33m\u001b[0m\u001b[0m\n\u001b[0m\u001b[0;32m   1052\u001b[0m         \u001b[1;31m# Do not call functions when jit is used\u001b[0m\u001b[1;33m\u001b[0m\u001b[1;33m\u001b[0m\u001b[1;33m\u001b[0m\u001b[0m\n\u001b[0;32m   1053\u001b[0m         \u001b[0mfull_backward_hooks\u001b[0m\u001b[1;33m,\u001b[0m \u001b[0mnon_full_backward_hooks\u001b[0m \u001b[1;33m=\u001b[0m \u001b[1;33m[\u001b[0m\u001b[1;33m]\u001b[0m\u001b[1;33m,\u001b[0m \u001b[1;33m[\u001b[0m\u001b[1;33m]\u001b[0m\u001b[1;33m\u001b[0m\u001b[1;33m\u001b[0m\u001b[0m\n",
      "\u001b[1;32m~\\anaconda3\\lib\\site-packages\\torch_geometric\\nn\\conv\\gat_conv.py\u001b[0m in \u001b[0;36mforward\u001b[1;34m(self, x, edge_index, size, return_attention_weights)\u001b[0m\n\u001b[0;32m    145\u001b[0m                     \u001b[0mnum_nodes\u001b[0m \u001b[1;33m=\u001b[0m \u001b[0mmin\u001b[0m\u001b[1;33m(\u001b[0m\u001b[0msize\u001b[0m\u001b[1;33m[\u001b[0m\u001b[1;36m0\u001b[0m\u001b[1;33m]\u001b[0m\u001b[1;33m,\u001b[0m \u001b[0msize\u001b[0m\u001b[1;33m[\u001b[0m\u001b[1;36m1\u001b[0m\u001b[1;33m]\u001b[0m\u001b[1;33m)\u001b[0m\u001b[1;33m\u001b[0m\u001b[1;33m\u001b[0m\u001b[0m\n\u001b[0;32m    146\u001b[0m                 \u001b[0medge_index\u001b[0m\u001b[1;33m,\u001b[0m \u001b[0m_\u001b[0m \u001b[1;33m=\u001b[0m \u001b[0mremove_self_loops\u001b[0m\u001b[1;33m(\u001b[0m\u001b[0medge_index\u001b[0m\u001b[1;33m)\u001b[0m\u001b[1;33m\u001b[0m\u001b[1;33m\u001b[0m\u001b[0m\n\u001b[1;32m--> 147\u001b[1;33m                 \u001b[0medge_index\u001b[0m\u001b[1;33m,\u001b[0m \u001b[0m_\u001b[0m \u001b[1;33m=\u001b[0m \u001b[0madd_self_loops\u001b[0m\u001b[1;33m(\u001b[0m\u001b[0medge_index\u001b[0m\u001b[1;33m,\u001b[0m \u001b[0mnum_nodes\u001b[0m\u001b[1;33m=\u001b[0m\u001b[0mnum_nodes\u001b[0m\u001b[1;33m)\u001b[0m\u001b[1;33m\u001b[0m\u001b[1;33m\u001b[0m\u001b[0m\n\u001b[0m\u001b[0;32m    148\u001b[0m             \u001b[1;32melif\u001b[0m \u001b[0misinstance\u001b[0m\u001b[1;33m(\u001b[0m\u001b[0medge_index\u001b[0m\u001b[1;33m,\u001b[0m \u001b[0mSparseTensor\u001b[0m\u001b[1;33m)\u001b[0m\u001b[1;33m:\u001b[0m\u001b[1;33m\u001b[0m\u001b[1;33m\u001b[0m\u001b[0m\n\u001b[0;32m    149\u001b[0m                 \u001b[0medge_index\u001b[0m \u001b[1;33m=\u001b[0m \u001b[0mset_diag\u001b[0m\u001b[1;33m(\u001b[0m\u001b[0medge_index\u001b[0m\u001b[1;33m)\u001b[0m\u001b[1;33m\u001b[0m\u001b[1;33m\u001b[0m\u001b[0m\n",
      "\u001b[1;32m~\\anaconda3\\lib\\site-packages\\torch_geometric\\utils\\loop.py\u001b[0m in \u001b[0;36madd_self_loops\u001b[1;34m(edge_index, edge_weight, fill_value, num_nodes)\u001b[0m\n\u001b[0;32m     90\u001b[0m         \u001b[0medge_weight\u001b[0m \u001b[1;33m=\u001b[0m \u001b[0mtorch\u001b[0m\u001b[1;33m.\u001b[0m\u001b[0mcat\u001b[0m\u001b[1;33m(\u001b[0m\u001b[1;33m[\u001b[0m\u001b[0medge_weight\u001b[0m\u001b[1;33m,\u001b[0m \u001b[0mloop_weight\u001b[0m\u001b[1;33m]\u001b[0m\u001b[1;33m,\u001b[0m \u001b[0mdim\u001b[0m\u001b[1;33m=\u001b[0m\u001b[1;36m0\u001b[0m\u001b[1;33m)\u001b[0m\u001b[1;33m\u001b[0m\u001b[1;33m\u001b[0m\u001b[0m\n\u001b[0;32m     91\u001b[0m \u001b[1;33m\u001b[0m\u001b[0m\n\u001b[1;32m---> 92\u001b[1;33m     \u001b[0medge_index\u001b[0m \u001b[1;33m=\u001b[0m \u001b[0mtorch\u001b[0m\u001b[1;33m.\u001b[0m\u001b[0mcat\u001b[0m\u001b[1;33m(\u001b[0m\u001b[1;33m[\u001b[0m\u001b[0medge_index\u001b[0m\u001b[1;33m,\u001b[0m \u001b[0mloop_index\u001b[0m\u001b[1;33m]\u001b[0m\u001b[1;33m,\u001b[0m \u001b[0mdim\u001b[0m\u001b[1;33m=\u001b[0m\u001b[1;36m1\u001b[0m\u001b[1;33m)\u001b[0m\u001b[1;33m\u001b[0m\u001b[1;33m\u001b[0m\u001b[0m\n\u001b[0m\u001b[0;32m     93\u001b[0m \u001b[1;33m\u001b[0m\u001b[0m\n\u001b[0;32m     94\u001b[0m     \u001b[1;32mreturn\u001b[0m \u001b[0medge_index\u001b[0m\u001b[1;33m,\u001b[0m \u001b[0medge_weight\u001b[0m\u001b[1;33m\u001b[0m\u001b[1;33m\u001b[0m\u001b[0m\n",
      "\u001b[1;31mRuntimeError\u001b[0m: torch.cat(): Sizes of tensors must match except in dimension 1. Got 25 and 2 in dimension 0 (The offending index is 1)"
     ]
    }
   ],
   "metadata": {}
  },
  {
   "cell_type": "code",
   "execution_count": 144,
   "source": [
    "dataset = CrypoDataset(root=\"Dataset/Crypto/\")"
   ],
   "outputs": [],
   "metadata": {}
  },
  {
   "cell_type": "code",
   "execution_count": 154,
   "source": [
    "dataset.num_classes"
   ],
   "outputs": [
    {
     "output_type": "error",
     "ename": "AttributeError",
     "evalue": "'CrypoDataset' object has no attribute 'num_classes'",
     "traceback": [
      "\u001b[1;31m---------------------------------------------------------------------------\u001b[0m",
      "\u001b[1;31mAttributeError\u001b[0m                            Traceback (most recent call last)",
      "\u001b[1;32m<ipython-input-154-0d89fcb98f3e>\u001b[0m in \u001b[0;36m<module>\u001b[1;34m\u001b[0m\n\u001b[1;32m----> 1\u001b[1;33m \u001b[0mdataset\u001b[0m\u001b[1;33m.\u001b[0m\u001b[0mnum_classes\u001b[0m\u001b[1;33m\u001b[0m\u001b[1;33m\u001b[0m\u001b[0m\n\u001b[0m",
      "\u001b[1;31mAttributeError\u001b[0m: 'CrypoDataset' object has no attribute 'num_classes'"
     ]
    }
   ],
   "metadata": {}
  },
  {
   "cell_type": "code",
   "execution_count": 113,
   "source": [
    " data_file = pd.read_csv(\"./Dataset/Crypto/raw/BNB.csv\")"
   ],
   "outputs": [],
   "metadata": {}
  },
  {
   "cell_type": "code",
   "execution_count": 114,
   "source": [
    " data_file"
   ],
   "outputs": [
    {
     "output_type": "execute_result",
     "data": {
      "text/plain": [
       "          Date      Open      High       Low     Close       Volume\n",
       "0     7/1/2019   32.1141   34.0500   31.3682   33.2777  1835906.620\n",
       "1     7/2/2019   33.2722   34.0000   30.5600   31.9777  2017364.120\n",
       "2     7/3/2019   31.9530   33.0500   31.6230   32.5220  1929917.650\n",
       "3     7/4/2019   32.5219   34.3839   32.1503   33.0888  2194259.800\n",
       "4     7/5/2019   33.0399   33.6497   32.4000   32.5566  1501826.740\n",
       "..         ...       ...       ...       ...       ...          ...\n",
       "725  6/25/2021  308.6000  314.8400  275.2400  280.8100  2711888.871\n",
       "726  6/26/2021  280.8900  290.3300  264.2600  279.6500  2263064.363\n",
       "727  6/27/2021  279.5800  291.7000  269.7200  290.8700  1539903.027\n",
       "728  6/28/2021  290.8900  299.9600  283.5500  290.0000  1884580.156\n",
       "729  6/29/2021  290.0000  315.6000  289.1900  300.7900  2126079.342\n",
       "\n",
       "[730 rows x 6 columns]"
      ],
      "text/html": [
       "<div>\n",
       "<style scoped>\n",
       "    .dataframe tbody tr th:only-of-type {\n",
       "        vertical-align: middle;\n",
       "    }\n",
       "\n",
       "    .dataframe tbody tr th {\n",
       "        vertical-align: top;\n",
       "    }\n",
       "\n",
       "    .dataframe thead th {\n",
       "        text-align: right;\n",
       "    }\n",
       "</style>\n",
       "<table border=\"1\" class=\"dataframe\">\n",
       "  <thead>\n",
       "    <tr style=\"text-align: right;\">\n",
       "      <th></th>\n",
       "      <th>Date</th>\n",
       "      <th>Open</th>\n",
       "      <th>High</th>\n",
       "      <th>Low</th>\n",
       "      <th>Close</th>\n",
       "      <th>Volume</th>\n",
       "    </tr>\n",
       "  </thead>\n",
       "  <tbody>\n",
       "    <tr>\n",
       "      <th>0</th>\n",
       "      <td>7/1/2019</td>\n",
       "      <td>32.1141</td>\n",
       "      <td>34.0500</td>\n",
       "      <td>31.3682</td>\n",
       "      <td>33.2777</td>\n",
       "      <td>1835906.620</td>\n",
       "    </tr>\n",
       "    <tr>\n",
       "      <th>1</th>\n",
       "      <td>7/2/2019</td>\n",
       "      <td>33.2722</td>\n",
       "      <td>34.0000</td>\n",
       "      <td>30.5600</td>\n",
       "      <td>31.9777</td>\n",
       "      <td>2017364.120</td>\n",
       "    </tr>\n",
       "    <tr>\n",
       "      <th>2</th>\n",
       "      <td>7/3/2019</td>\n",
       "      <td>31.9530</td>\n",
       "      <td>33.0500</td>\n",
       "      <td>31.6230</td>\n",
       "      <td>32.5220</td>\n",
       "      <td>1929917.650</td>\n",
       "    </tr>\n",
       "    <tr>\n",
       "      <th>3</th>\n",
       "      <td>7/4/2019</td>\n",
       "      <td>32.5219</td>\n",
       "      <td>34.3839</td>\n",
       "      <td>32.1503</td>\n",
       "      <td>33.0888</td>\n",
       "      <td>2194259.800</td>\n",
       "    </tr>\n",
       "    <tr>\n",
       "      <th>4</th>\n",
       "      <td>7/5/2019</td>\n",
       "      <td>33.0399</td>\n",
       "      <td>33.6497</td>\n",
       "      <td>32.4000</td>\n",
       "      <td>32.5566</td>\n",
       "      <td>1501826.740</td>\n",
       "    </tr>\n",
       "    <tr>\n",
       "      <th>...</th>\n",
       "      <td>...</td>\n",
       "      <td>...</td>\n",
       "      <td>...</td>\n",
       "      <td>...</td>\n",
       "      <td>...</td>\n",
       "      <td>...</td>\n",
       "    </tr>\n",
       "    <tr>\n",
       "      <th>725</th>\n",
       "      <td>6/25/2021</td>\n",
       "      <td>308.6000</td>\n",
       "      <td>314.8400</td>\n",
       "      <td>275.2400</td>\n",
       "      <td>280.8100</td>\n",
       "      <td>2711888.871</td>\n",
       "    </tr>\n",
       "    <tr>\n",
       "      <th>726</th>\n",
       "      <td>6/26/2021</td>\n",
       "      <td>280.8900</td>\n",
       "      <td>290.3300</td>\n",
       "      <td>264.2600</td>\n",
       "      <td>279.6500</td>\n",
       "      <td>2263064.363</td>\n",
       "    </tr>\n",
       "    <tr>\n",
       "      <th>727</th>\n",
       "      <td>6/27/2021</td>\n",
       "      <td>279.5800</td>\n",
       "      <td>291.7000</td>\n",
       "      <td>269.7200</td>\n",
       "      <td>290.8700</td>\n",
       "      <td>1539903.027</td>\n",
       "    </tr>\n",
       "    <tr>\n",
       "      <th>728</th>\n",
       "      <td>6/28/2021</td>\n",
       "      <td>290.8900</td>\n",
       "      <td>299.9600</td>\n",
       "      <td>283.5500</td>\n",
       "      <td>290.0000</td>\n",
       "      <td>1884580.156</td>\n",
       "    </tr>\n",
       "    <tr>\n",
       "      <th>729</th>\n",
       "      <td>6/29/2021</td>\n",
       "      <td>290.0000</td>\n",
       "      <td>315.6000</td>\n",
       "      <td>289.1900</td>\n",
       "      <td>300.7900</td>\n",
       "      <td>2126079.342</td>\n",
       "    </tr>\n",
       "  </tbody>\n",
       "</table>\n",
       "<p>730 rows × 6 columns</p>\n",
       "</div>"
      ]
     },
     "metadata": {},
     "execution_count": 114
    }
   ],
   "metadata": {}
  },
  {
   "cell_type": "code",
   "execution_count": 115,
   "source": [
    "date_time=data_file.iloc[0][\"Date\"]"
   ],
   "outputs": [],
   "metadata": {}
  },
  {
   "cell_type": "code",
   "execution_count": 116,
   "source": [
    "date_time"
   ],
   "outputs": [
    {
     "output_type": "execute_result",
     "data": {
      "text/plain": [
       "'7/1/2019'"
      ]
     },
     "metadata": {},
     "execution_count": 116
    }
   ],
   "metadata": {}
  },
  {
   "cell_type": "code",
   "execution_count": 131,
   "source": [
    "daily_data = data_file.loc[data_file['Open'] == 33.2722]"
   ],
   "outputs": [],
   "metadata": {}
  },
  {
   "cell_type": "code",
   "execution_count": 134,
   "source": [
    "daily_data[\"Open\"].item()"
   ],
   "outputs": [
    {
     "output_type": "execute_result",
     "data": {
      "text/plain": [
       "33.2722"
      ]
     },
     "metadata": {},
     "execution_count": 134
    }
   ],
   "metadata": {}
  },
  {
   "cell_type": "code",
   "execution_count": null,
   "source": [],
   "outputs": [],
   "metadata": {}
  }
 ],
 "metadata": {
  "kernelspec": {
   "display_name": "Python 3",
   "language": "python",
   "name": "python3"
  },
  "language_info": {
   "codemirror_mode": {
    "name": "ipython",
    "version": 3
   },
   "file_extension": ".py",
   "mimetype": "text/x-python",
   "name": "python",
   "nbconvert_exporter": "python",
   "pygments_lexer": "ipython3",
   "version": "3.8.8"
  }
 },
 "nbformat": 4,
 "nbformat_minor": 5
}