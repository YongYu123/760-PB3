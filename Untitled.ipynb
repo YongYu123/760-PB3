{
 "cells": [
  {
   "cell_type": "code",
   "execution_count": 17,
   "id": "20b6a378",
   "metadata": {},
   "outputs": [],
   "source": [
    "import os\n",
    "import torch\n",
    "from torch_geometric.data import Dataset, Data\n",
    "import glob\n",
    "import pandas as pd\n",
    "import numpy as np\n",
    "\n",
    "class CrypoDataset(Dataset):\n",
    "    def __init__(self, root,transform=None, pre_transform=None):\n",
    "        super(CrypoDataset, self).__init__(root, transform, pre_transform)\n",
    "\n",
    "    @property\n",
    "    def raw_file_names(self):\n",
    "        crypto_path = glob.glob(\"./\" + self.root + \"/raw/*.csv\")\n",
    "        crypto_filenames = []\n",
    "        for crypto_file in crypto_path:\n",
    "            name = os.path.basename(crypto_file)\n",
    "            crypto_filenames.append(name)\n",
    "        return crypto_filenames\n",
    "\n",
    "\n",
    "    @property\n",
    "    def processed_file_names(self):\n",
    "        data_rows = pd.read_csv(self.raw_paths[0]).shape[0]\n",
    "        return [f'data_{i}.pt' for i in range(data_rows)]\n",
    "        \n",
    "    def download(self): \n",
    "        pass\n",
    "\n",
    "    def process(self):\n",
    "        file_no = 0\n",
    "        data_rows = pd.read_csv(self.raw_paths[0]).shape[0]\n",
    "        for i in range(data_rows):\n",
    "            date_time = 0\n",
    "            all_node_feats=[]\n",
    "            label_y=[]\n",
    "            for raw_path in self.raw_paths:\n",
    "            # Read data from `raw_path`.\n",
    "                data_file = pd.read_csv(raw_path)\n",
    "                if(date_time == 0):\n",
    "                    date_time=data_file.iloc[i][\"Date\"]\n",
    "                daily_data = data_file.loc[data_file['Date'] == date_time]\n",
    "                if(daily_data.shape[0]>0):\n",
    "                    node_feats = self._get_node_features(daily_data)\n",
    "                    all_node_feats.append(node_feats)\n",
    "                    label_y.append(self._buy_or_not(data_file,date_time))\n",
    "            edge_index = self.generateEdge(len(all_node_feats))\n",
    "            all_node_feats = torch.tensor(all_node_feats, dtype=torch.float)\n",
    "            label_y = torch.tensor(label_y, dtype=torch.float)\n",
    "            data = Data(x=all_node_feats,edge_index=edge_index,y=label_y)\n",
    "            \n",
    "            if self.pre_filter is not None and not self.pre_filter(data):\n",
    "                continue\n",
    "\n",
    "            if self.pre_transform is not None:\n",
    "                data = self.pre_transform(data)\n",
    "\n",
    "            torch.save(data, os.path.join(self.processed_dir, 'data_{}.pt'.format(file_no)))\n",
    "            file_no += 1\n",
    "\n",
    "    def len(self):\n",
    "        return len(self.processed_file_names)\n",
    "\n",
    "    def get(self, idx):\n",
    "        data = torch.load(os.path.join(self.processed_dir, 'data_{}.pt'.format(idx)))\n",
    "        return data\n",
    "\n",
    "    def _get_node_features(self, daily_data):\n",
    "        all_node_feats = []\n",
    "        all_node_feats.append(daily_data[\"Open\"].item())\n",
    "        all_node_feats.append(daily_data[\"High\"].item())\n",
    "        all_node_feats.append(daily_data[\"Low\"].item())\n",
    "        all_node_feats.append(daily_data[\"Close\"].item())\n",
    "        all_node_feats.append(daily_data[\"Volume\"].item())\n",
    "        return all_node_feats\n",
    "    \n",
    "    def _get_return_ratio(self,daily_data):\n",
    "        return_ratio = []\n",
    "        data = np.array(daily_data[\"Close\"])\n",
    "        for i in range(len(data)):\n",
    "            if i == 0:\n",
    "                return_ratio.append(0)\n",
    "            else:\n",
    "                return_ratio.append((data[i]-data[i-1])/data[i-1])\n",
    "        return return_ratio\n",
    "    \n",
    "    def _buy_or_not(self,data_file,date_time):\n",
    "        butOrNot=0\n",
    "        data = np.array(data_file[\"Close\"])\n",
    "        data_row = data_file.loc[data_file['Date'] == date_time]\n",
    "        if data_row.shape[0]>0:\n",
    "            index = data_file.loc[data_file['Date'] == date_time].index[0]\n",
    "            if(index < data_file.shape[0]-1 and data[index+1]>data[index]):\n",
    "                butOrNot=1\n",
    "        return butOrNot\n",
    "    def generateEdge(self,n):\n",
    "        edges = []\n",
    "        for i in range(n):\n",
    "            for j in range(n):\n",
    "                edges.append([i,j])\n",
    "        return torch.tensor(np.transpose(edges), dtype=torch.long)\n"
   ]
  },
  {
   "cell_type": "code",
   "execution_count": 18,
   "id": "b295f996",
   "metadata": {},
   "outputs": [
    {
     "name": "stdout",
     "output_type": "stream",
     "text": [
      "Processing...\n",
      "Done!\n"
     ]
    },
    {
     "data": {
      "text/plain": [
       "CrypoDataset(730)"
      ]
     },
     "execution_count": 18,
     "metadata": {},
     "output_type": "execute_result"
    }
   ],
   "source": [
    "CrypoDataset(\"./Dataset/Crypto/\")"
   ]
  },
  {
   "cell_type": "code",
   "execution_count": 23,
   "id": "ef393d83",
   "metadata": {},
   "outputs": [
    {
     "ename": "AttributeError",
     "evalue": "'Data' object has no attribute 'train_mask'",
     "output_type": "error",
     "traceback": [
      "\u001b[1;31m---------------------------------------------------------------------------\u001b[0m",
      "\u001b[1;31mAttributeError\u001b[0m                            Traceback (most recent call last)",
      "\u001b[1;32m<ipython-input-23-100f608c6be5>\u001b[0m in \u001b[0;36m<module>\u001b[1;34m\u001b[0m\n\u001b[0;32m     66\u001b[0m \u001b[1;33m\u001b[0m\u001b[0m\n\u001b[0;32m     67\u001b[0m \u001b[1;32mfor\u001b[0m \u001b[0mepoch\u001b[0m \u001b[1;32min\u001b[0m \u001b[0mrange\u001b[0m\u001b[1;33m(\u001b[0m\u001b[1;36m1\u001b[0m\u001b[1;33m,\u001b[0m \u001b[1;36m201\u001b[0m\u001b[1;33m)\u001b[0m\u001b[1;33m:\u001b[0m\u001b[1;33m\u001b[0m\u001b[1;33m\u001b[0m\u001b[0m\n\u001b[1;32m---> 68\u001b[1;33m     \u001b[0mtrain\u001b[0m\u001b[1;33m(\u001b[0m\u001b[0mdata\u001b[0m\u001b[1;33m)\u001b[0m\u001b[1;33m\u001b[0m\u001b[1;33m\u001b[0m\u001b[0m\n\u001b[0m\u001b[0;32m     69\u001b[0m     \u001b[0mtrain_acc\u001b[0m\u001b[1;33m,\u001b[0m \u001b[0mval_acc\u001b[0m\u001b[1;33m,\u001b[0m \u001b[0mtest_acc\u001b[0m \u001b[1;33m=\u001b[0m \u001b[0mtest\u001b[0m\u001b[1;33m(\u001b[0m\u001b[0mdata\u001b[0m\u001b[1;33m)\u001b[0m\u001b[1;33m\u001b[0m\u001b[1;33m\u001b[0m\u001b[0m\n\u001b[0;32m     70\u001b[0m     print(f'Epoch: {epoch:03d}, Train: {train_acc:.4f}, Val: {val_acc:.4f}, '\n",
      "\u001b[1;32m<ipython-input-23-100f608c6be5>\u001b[0m in \u001b[0;36mtrain\u001b[1;34m(data)\u001b[0m\n\u001b[0;32m     50\u001b[0m     \u001b[0moptimizer\u001b[0m\u001b[1;33m.\u001b[0m\u001b[0mzero_grad\u001b[0m\u001b[1;33m(\u001b[0m\u001b[1;33m)\u001b[0m\u001b[1;33m\u001b[0m\u001b[1;33m\u001b[0m\u001b[0m\n\u001b[0;32m     51\u001b[0m     \u001b[0mout\u001b[0m \u001b[1;33m=\u001b[0m \u001b[0mmodel\u001b[0m\u001b[1;33m(\u001b[0m\u001b[0mdata\u001b[0m\u001b[1;33m.\u001b[0m\u001b[0mx\u001b[0m\u001b[1;33m,\u001b[0m \u001b[0mdata\u001b[0m\u001b[1;33m.\u001b[0m\u001b[0medge_index\u001b[0m\u001b[1;33m)\u001b[0m\u001b[1;33m\u001b[0m\u001b[1;33m\u001b[0m\u001b[0m\n\u001b[1;32m---> 52\u001b[1;33m     \u001b[0mloss\u001b[0m \u001b[1;33m=\u001b[0m \u001b[0mF\u001b[0m\u001b[1;33m.\u001b[0m\u001b[0mnll_loss\u001b[0m\u001b[1;33m(\u001b[0m\u001b[0mout\u001b[0m\u001b[1;33m[\u001b[0m\u001b[0mdata\u001b[0m\u001b[1;33m.\u001b[0m\u001b[0mtrain_mask\u001b[0m\u001b[1;33m]\u001b[0m\u001b[1;33m,\u001b[0m \u001b[0mdata\u001b[0m\u001b[1;33m.\u001b[0m\u001b[0my\u001b[0m\u001b[1;33m[\u001b[0m\u001b[0mdata\u001b[0m\u001b[1;33m.\u001b[0m\u001b[0mtrain_mask\u001b[0m\u001b[1;33m]\u001b[0m\u001b[1;33m)\u001b[0m\u001b[1;33m\u001b[0m\u001b[1;33m\u001b[0m\u001b[0m\n\u001b[0m\u001b[0;32m     53\u001b[0m     \u001b[0mloss\u001b[0m\u001b[1;33m.\u001b[0m\u001b[0mbackward\u001b[0m\u001b[1;33m(\u001b[0m\u001b[1;33m)\u001b[0m\u001b[1;33m\u001b[0m\u001b[1;33m\u001b[0m\u001b[0m\n\u001b[0;32m     54\u001b[0m     \u001b[0moptimizer\u001b[0m\u001b[1;33m.\u001b[0m\u001b[0mstep\u001b[0m\u001b[1;33m(\u001b[0m\u001b[1;33m)\u001b[0m\u001b[1;33m\u001b[0m\u001b[1;33m\u001b[0m\u001b[0m\n",
      "\u001b[1;31mAttributeError\u001b[0m: 'Data' object has no attribute 'train_mask'"
     ]
    }
   ],
   "source": [
    "import os.path as osp\n",
    "\n",
    "import torch\n",
    "import torch.nn.functional as F\n",
    "from torch_geometric.datasets import Planetoid\n",
    "import torch_geometric.transforms as T\n",
    "from torch_geometric.nn import GATConv\n",
    "from dataset import CrypoDataset\n",
    "from torch_geometric.data import DataLoader\n",
    "dataset = CrypoDataset(root=\"Dataset/Crypto/\")\n",
    "\n",
    "data = dataset[0]\n",
    "\n",
    "# dataset = dataset.shuffle()\n",
    "# train_dataset = dataset[:4]\n",
    "# val_dataset = dataset[2:3]\n",
    "# test_dataset = dataset[4:5]\n",
    "\n",
    "# batch_size= 512\n",
    "# train_loader = DataLoader(train_dataset, batch_size=batch_size)\n",
    "# val_loader = DataLoader(val_dataset, batch_size=batch_size)\n",
    "# test_loader = DataLoader(test_dataset, batch_size=batch_size)\n",
    "\n",
    "class Net(torch.nn.Module):\n",
    "    def __init__(self, in_channels, out_channels):\n",
    "        super(Net, self).__init__()\n",
    "\n",
    "        self.conv1 = GATConv(in_channels, 8, heads=8, dropout=0.6)\n",
    "        # On the Pubmed dataset, use heads=8 in conv2.\n",
    "        self.conv2 = GATConv(8 * 8, out_channels, heads=1, concat=False,\n",
    "                             dropout=0.6)\n",
    "\n",
    "    def forward(self, x, edge_index):\n",
    "        x = F.dropout(x, p=0.6, training=self.training)\n",
    "        x = F.elu(self.conv1(x, edge_index))\n",
    "        x = F.dropout(x, p=0.6, training=self.training)\n",
    "        x = self.conv2(x, edge_index)\n",
    "        return F.log_softmax(x, dim=-1)\n",
    "\n",
    "device = torch.device('cpu')\n",
    "\n",
    "\n",
    "model = Net(dataset.num_features,2).to(device)\n",
    "data = data.to(device)\n",
    "optimizer = torch.optim.Adam(model.parameters(), lr=0.005, weight_decay=5e-4)\n",
    "\n",
    "\n",
    "def train(data):\n",
    "    model.train()\n",
    "    optimizer.zero_grad()\n",
    "    out = model(data.x, data.edge_index)\n",
    "    loss = F.nll_loss(out[data.train_mask], data.y[data.train_mask])\n",
    "    loss.backward()\n",
    "    optimizer.step()\n",
    "\n",
    "\n",
    "@torch.no_grad()\n",
    "def test(data):\n",
    "    model.eval()\n",
    "    out, accs = model(data.x, data.edge_index), []\n",
    "    for _, mask in data('train_mask', 'val_mask', 'test_mask'):\n",
    "        acc = float((out[mask].argmax(-1) == data.y[mask]).sum() / mask.sum())\n",
    "        accs.append(acc)\n",
    "    return accs\n",
    "\n",
    "\n",
    "for epoch in range(1, 201):\n",
    "    train(data)\n",
    "    train_acc, val_acc, test_acc = test(data)\n",
    "    print(f'Epoch: {epoch:03d}, Train: {train_acc:.4f}, Val: {val_acc:.4f}, '\n",
    "          f'Test: {test_acc:.4f}')"
   ]
  },
  {
   "cell_type": "code",
   "execution_count": 19,
   "id": "fb9d5dcf",
   "metadata": {},
   "outputs": [],
   "source": [
    "dataset = CrypoDataset(root=\"Dataset/Crypto/\")"
   ]
  },
  {
   "cell_type": "code",
   "execution_count": 22,
   "id": "b898dd5f",
   "metadata": {},
   "outputs": [
    {
     "data": {
      "text/plain": [
       "Data(edge_index=[2, 25], x=[5, 5], y=[5])"
      ]
     },
     "execution_count": 22,
     "metadata": {},
     "output_type": "execute_result"
    }
   ],
   "source": [
    "dataset[0]"
   ]
  },
  {
   "cell_type": "code",
   "execution_count": 113,
   "id": "12497077",
   "metadata": {},
   "outputs": [],
   "source": [
    " data_file = pd.read_csv(\"./Dataset/Crypto/raw/BNB.csv\")"
   ]
  },
  {
   "cell_type": "code",
   "execution_count": 114,
   "id": "4d60a5a7",
   "metadata": {},
   "outputs": [
    {
     "data": {
      "text/html": [
       "<div>\n",
       "<style scoped>\n",
       "    .dataframe tbody tr th:only-of-type {\n",
       "        vertical-align: middle;\n",
       "    }\n",
       "\n",
       "    .dataframe tbody tr th {\n",
       "        vertical-align: top;\n",
       "    }\n",
       "\n",
       "    .dataframe thead th {\n",
       "        text-align: right;\n",
       "    }\n",
       "</style>\n",
       "<table border=\"1\" class=\"dataframe\">\n",
       "  <thead>\n",
       "    <tr style=\"text-align: right;\">\n",
       "      <th></th>\n",
       "      <th>Date</th>\n",
       "      <th>Open</th>\n",
       "      <th>High</th>\n",
       "      <th>Low</th>\n",
       "      <th>Close</th>\n",
       "      <th>Volume</th>\n",
       "    </tr>\n",
       "  </thead>\n",
       "  <tbody>\n",
       "    <tr>\n",
       "      <th>0</th>\n",
       "      <td>7/1/2019</td>\n",
       "      <td>32.1141</td>\n",
       "      <td>34.0500</td>\n",
       "      <td>31.3682</td>\n",
       "      <td>33.2777</td>\n",
       "      <td>1835906.620</td>\n",
       "    </tr>\n",
       "    <tr>\n",
       "      <th>1</th>\n",
       "      <td>7/2/2019</td>\n",
       "      <td>33.2722</td>\n",
       "      <td>34.0000</td>\n",
       "      <td>30.5600</td>\n",
       "      <td>31.9777</td>\n",
       "      <td>2017364.120</td>\n",
       "    </tr>\n",
       "    <tr>\n",
       "      <th>2</th>\n",
       "      <td>7/3/2019</td>\n",
       "      <td>31.9530</td>\n",
       "      <td>33.0500</td>\n",
       "      <td>31.6230</td>\n",
       "      <td>32.5220</td>\n",
       "      <td>1929917.650</td>\n",
       "    </tr>\n",
       "    <tr>\n",
       "      <th>3</th>\n",
       "      <td>7/4/2019</td>\n",
       "      <td>32.5219</td>\n",
       "      <td>34.3839</td>\n",
       "      <td>32.1503</td>\n",
       "      <td>33.0888</td>\n",
       "      <td>2194259.800</td>\n",
       "    </tr>\n",
       "    <tr>\n",
       "      <th>4</th>\n",
       "      <td>7/5/2019</td>\n",
       "      <td>33.0399</td>\n",
       "      <td>33.6497</td>\n",
       "      <td>32.4000</td>\n",
       "      <td>32.5566</td>\n",
       "      <td>1501826.740</td>\n",
       "    </tr>\n",
       "    <tr>\n",
       "      <th>...</th>\n",
       "      <td>...</td>\n",
       "      <td>...</td>\n",
       "      <td>...</td>\n",
       "      <td>...</td>\n",
       "      <td>...</td>\n",
       "      <td>...</td>\n",
       "    </tr>\n",
       "    <tr>\n",
       "      <th>725</th>\n",
       "      <td>6/25/2021</td>\n",
       "      <td>308.6000</td>\n",
       "      <td>314.8400</td>\n",
       "      <td>275.2400</td>\n",
       "      <td>280.8100</td>\n",
       "      <td>2711888.871</td>\n",
       "    </tr>\n",
       "    <tr>\n",
       "      <th>726</th>\n",
       "      <td>6/26/2021</td>\n",
       "      <td>280.8900</td>\n",
       "      <td>290.3300</td>\n",
       "      <td>264.2600</td>\n",
       "      <td>279.6500</td>\n",
       "      <td>2263064.363</td>\n",
       "    </tr>\n",
       "    <tr>\n",
       "      <th>727</th>\n",
       "      <td>6/27/2021</td>\n",
       "      <td>279.5800</td>\n",
       "      <td>291.7000</td>\n",
       "      <td>269.7200</td>\n",
       "      <td>290.8700</td>\n",
       "      <td>1539903.027</td>\n",
       "    </tr>\n",
       "    <tr>\n",
       "      <th>728</th>\n",
       "      <td>6/28/2021</td>\n",
       "      <td>290.8900</td>\n",
       "      <td>299.9600</td>\n",
       "      <td>283.5500</td>\n",
       "      <td>290.0000</td>\n",
       "      <td>1884580.156</td>\n",
       "    </tr>\n",
       "    <tr>\n",
       "      <th>729</th>\n",
       "      <td>6/29/2021</td>\n",
       "      <td>290.0000</td>\n",
       "      <td>315.6000</td>\n",
       "      <td>289.1900</td>\n",
       "      <td>300.7900</td>\n",
       "      <td>2126079.342</td>\n",
       "    </tr>\n",
       "  </tbody>\n",
       "</table>\n",
       "<p>730 rows × 6 columns</p>\n",
       "</div>"
      ],
      "text/plain": [
       "          Date      Open      High       Low     Close       Volume\n",
       "0     7/1/2019   32.1141   34.0500   31.3682   33.2777  1835906.620\n",
       "1     7/2/2019   33.2722   34.0000   30.5600   31.9777  2017364.120\n",
       "2     7/3/2019   31.9530   33.0500   31.6230   32.5220  1929917.650\n",
       "3     7/4/2019   32.5219   34.3839   32.1503   33.0888  2194259.800\n",
       "4     7/5/2019   33.0399   33.6497   32.4000   32.5566  1501826.740\n",
       "..         ...       ...       ...       ...       ...          ...\n",
       "725  6/25/2021  308.6000  314.8400  275.2400  280.8100  2711888.871\n",
       "726  6/26/2021  280.8900  290.3300  264.2600  279.6500  2263064.363\n",
       "727  6/27/2021  279.5800  291.7000  269.7200  290.8700  1539903.027\n",
       "728  6/28/2021  290.8900  299.9600  283.5500  290.0000  1884580.156\n",
       "729  6/29/2021  290.0000  315.6000  289.1900  300.7900  2126079.342\n",
       "\n",
       "[730 rows x 6 columns]"
      ]
     },
     "execution_count": 114,
     "metadata": {},
     "output_type": "execute_result"
    }
   ],
   "source": [
    " data_file"
   ]
  },
  {
   "cell_type": "code",
   "execution_count": 115,
   "id": "8d2f7174",
   "metadata": {},
   "outputs": [],
   "source": [
    "date_time=data_file.iloc[0][\"Date\"]"
   ]
  },
  {
   "cell_type": "code",
   "execution_count": 116,
   "id": "ee2e872e",
   "metadata": {},
   "outputs": [
    {
     "data": {
      "text/plain": [
       "'7/1/2019'"
      ]
     },
     "execution_count": 116,
     "metadata": {},
     "output_type": "execute_result"
    }
   ],
   "source": [
    "date_time"
   ]
  },
  {
   "cell_type": "code",
   "execution_count": 131,
   "id": "7dcc2713",
   "metadata": {},
   "outputs": [],
   "source": [
    "daily_data = data_file.loc[data_file['Open'] == 33.2722]"
   ]
  },
  {
   "cell_type": "code",
   "execution_count": 134,
   "id": "61a400e0",
   "metadata": {},
   "outputs": [
    {
     "data": {
      "text/plain": [
       "33.2722"
      ]
     },
     "execution_count": 134,
     "metadata": {},
     "output_type": "execute_result"
    }
   ],
   "source": [
    "daily_data[\"Open\"].item()"
   ]
  },
  {
   "cell_type": "code",
   "execution_count": 10,
   "id": "d5298248",
   "metadata": {},
   "outputs": [],
   "source": [
    "   def generateEdge(n):\n",
    "        edges = []\n",
    "        for i in range(n):\n",
    "            for j in range(n):\n",
    "                edges.append([i,j])\n",
    "        return edges"
   ]
  },
  {
   "cell_type": "code",
   "execution_count": 12,
   "id": "9e8bf77f",
   "metadata": {},
   "outputs": [
    {
     "data": {
      "text/plain": [
       "array([[0, 0, 0, 0, 0, 1, 1, 1, 1, 1, 2, 2, 2, 2, 2, 3, 3, 3, 3, 3, 4, 4,\n",
       "        4, 4, 4],\n",
       "       [0, 1, 2, 3, 4, 0, 1, 2, 3, 4, 0, 1, 2, 3, 4, 0, 1, 2, 3, 4, 0, 1,\n",
       "        2, 3, 4]])"
      ]
     },
     "execution_count": 12,
     "metadata": {},
     "output_type": "execute_result"
    }
   ],
   "source": [
    "np.transpose(generateEdge(5))"
   ]
  },
  {
   "cell_type": "code",
   "execution_count": null,
   "id": "42eb11c0",
   "metadata": {},
   "outputs": [],
   "source": []
  }
 ],
 "metadata": {
  "kernelspec": {
   "display_name": "Python 3",
   "language": "python",
   "name": "python3"
  },
  "language_info": {
   "codemirror_mode": {
    "name": "ipython",
    "version": 3
   },
   "file_extension": ".py",
   "mimetype": "text/x-python",
   "name": "python",
   "nbconvert_exporter": "python",
   "pygments_lexer": "ipython3",
   "version": "3.8.8"
  }
 },
 "nbformat": 4,
 "nbformat_minor": 5
}
