{
 "cells": [
  {
   "cell_type": "code",
   "execution_count": 7,
   "id": "8959bf7d",
   "metadata": {},
   "outputs": [],
   "source": [
    "import os\n",
    "import torch\n",
    "from torch_geometric.data import Dataset, Data\n",
    "import glob\n",
    "import pandas as pd\n",
    "import numpy as np\n",
    "\n",
    "class CrypoDataset(Dataset):\n",
    "    def __init__(self, root, transform=None, pre_transform=None):\n",
    "        super(CrypoDataset, self).__init__(root, transform, pre_transform)\n",
    "\n",
    "    @property\n",
    "    def raw_file_names(self):\n",
    "        crypto_path = glob.glob(\"./\" + self.root + \"/raw/*.csv\")\n",
    "        crypto_filenames = []\n",
    "        for crypto_file in crypto_path:\n",
    "            name = os.path.basename(crypto_file)\n",
    "            crypto_filenames.append(name)\n",
    "        return crypto_filenames\n",
    "\n",
    "\n",
    "    @property\n",
    "    def processed_file_names(self):\n",
    "        crypto_path = glob.glob(\"./\" + self.root + \"/raw/*.csv\")\n",
    "        return [f'data_{i}.pt' for i in range(len(crypto_path))]\n",
    "        \n",
    "    def download(self): \n",
    "        pass\n",
    "\n",
    "    def process(self):\n",
    "        i = 0\n",
    "        for raw_path in self.raw_paths:\n",
    "            # Read data from `raw_path`.\n",
    "            self.data = pd.read_csv(raw_path)\n",
    "            node_feats = self._get_node_features(self.data)\n",
    "            node_feats.insert(0,i)\n",
    "            data = Data(x=node_feats,y=self._buy_or_not(self._get_return_ratio(self.data)))\n",
    "            \n",
    "\n",
    "            if self.pre_filter is not None and not self.pre_filter(data):\n",
    "                continue\n",
    "\n",
    "            if self.pre_transform is not None:\n",
    "                data = self.pre_transform(data)\n",
    "\n",
    "            torch.save(data, os.path.join(self.processed_dir, 'data_{}.pt'.format(i)))\n",
    "            i += 1\n",
    "\n",
    "    def len(self):\n",
    "        return len(self.processed_file_names)\n",
    "\n",
    "    def get(self, idx):\n",
    "        data = torch.load(os.path.join(self.processed_dir, 'data_{}.pt'.format(idx)))\n",
    "        return data\n",
    "\n",
    "    def _get_node_features(self, crypo):\n",
    "        all_node_feats = []\n",
    "        \n",
    "        all_node_feats.append(crypo[\"Open\"])\n",
    "        all_node_feats.append(crypo[\"High\"])\n",
    "        all_node_feats.append(crypo[\"Low\"])\n",
    "        all_node_feats.append(crypo[\"Close\"])\n",
    "        all_node_feats.append(crypo[\"Volume\"])\n",
    "        all_node_feats.append(self._get_return_ratio(self.data))\n",
    "        all_node_feats = np.asarray(all_node_feats)\n",
    "        return torch.tensor(all_node_feats, dtype=torch.float)\n",
    "        \n",
    "    \n",
    "    def _get_return_ratio(self,crypo):\n",
    "        return_ratio = []\n",
    "        data = np.array(crypo[\"Close\"])\n",
    "        for i in range(len(data)):\n",
    "            if i == 0:\n",
    "             return_ratio.append(0)\n",
    "            else:\n",
    "                return_ratio.append((data[i]-data[i-1])/data[i-1])\n",
    "        return return_ratio\n",
    "    \n",
    "    def _buy_or_not(self,crypo):\n",
    "        butOrNot=0\n",
    "        data = np.array(crypo[\"Close\"])\n",
    "        if(data[-1]>data[0]):\n",
    "            butOrNot=1\n",
    "        return torch.tensor(butOrNot, dtype=torch.float)\n"
   ]
  },
  {
   "cell_type": "code",
   "execution_count": 5,
   "id": "b65ecc67",
   "metadata": {},
   "outputs": [
    {
     "data": {
      "text/plain": [
       "CrypoDataset(5)"
      ]
     },
     "execution_count": 5,
     "metadata": {},
     "output_type": "execute_result"
    }
   ],
   "source": [
    "CrypoDataset(root=\"Dataset/Crypto/\")"
   ]
  },
  {
   "cell_type": "code",
   "execution_count": null,
   "id": "a62fe7f1",
   "metadata": {},
   "outputs": [],
   "source": []
  }
 ],
 "metadata": {
  "kernelspec": {
   "display_name": "Python 3",
   "language": "python",
   "name": "python3"
  },
  "language_info": {
   "codemirror_mode": {
    "name": "ipython",
    "version": 3
   },
   "file_extension": ".py",
   "mimetype": "text/x-python",
   "name": "python",
   "nbconvert_exporter": "python",
   "pygments_lexer": "ipython3",
   "version": "3.8.8"
  }
 },
 "nbformat": 4,
 "nbformat_minor": 5
}
